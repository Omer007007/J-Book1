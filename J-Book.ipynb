{
 "cells": [
  {
   "cell_type": "markdown",
   "id": "027b37c8-14f2-450a-bb8b-5210b290ccfe",
   "metadata": {},
   "source": [
    "J-Book"
   ]
  },
  {
   "cell_type": "markdown",
   "id": "9d5f2cdc-27e7-4f5a-84a6-f44bf3cb2db1",
   "metadata": {},
   "source": [
    "Introduction to data science"
   ]
  },
  {
   "cell_type": "markdown",
   "id": "d8ff9069-ff0a-4225-b5a4-a219228c2de7",
   "metadata": {},
   "source": [
    "List data science languages\n",
    "- Python\n",
    "- R\n",
    "- SQL"
   ]
  },
  {
   "cell_type": "markdown",
   "id": "c0d3270d-417c-4b1d-aa84-486ff864c2c8",
   "metadata": {},
   "source": [
    "List libraries\n",
    "- Pandas\n",
    "- NumPy\n",
    "- Matplotlib"
   ]
  },
  {
   "cell_type": "markdown",
   "id": "c6cc5aa8-6e33-4bb9-8ea9-c02ad0295cab",
   "metadata": {},
   "source": [
    "| Tool       | Purpose                  |\n",
    "|------------|--------------------------|\n",
    "| Jupyter    | Interactive coding       |\n",
    "| GitHub     | Version control          |\n",
    "| TensorFlow | Machine learning         |"
   ]
  },
  {
   "cell_type": "markdown",
   "id": "d828d63f-2a5c-4843-bc44-4bffa7382332",
   "metadata": {},
   "source": [
    "the following demostrates Addition and multiplication\n",
    "a = 5\n",
    "b = 10\n",
    "result = (a * b) + (a + b)\n",
    "print(result)"
   ]
  },
  {
   "cell_type": "code",
   "execution_count": 1,
   "id": "8b74edd0-8739-48c6-b64c-7c140db28eaa",
   "metadata": {},
   "outputs": [
    {
     "name": "stdout",
     "output_type": "stream",
     "text": [
      "65\n"
     ]
    }
   ],
   "source": [
    "a = 5\n",
    "b = 10\n",
    "result = (a * b) + (a + b)\n",
    "print(result)"
   ]
  },
  {
   "cell_type": "code",
   "execution_count": 2,
   "id": "98d07dcd-9adb-4e28-b467-3e1645d50119",
   "metadata": {},
   "outputs": [
    {
     "name": "stdout",
     "output_type": "stream",
     "text": [
      "2.0\n"
     ]
    }
   ],
   "source": [
    "def convert_minutes_to_hours(minutes):\n",
    "    return minutes / 60\n",
    "\n",
    "hours = convert_minutes_to_hours(120)\n",
    "print(hours)"
   ]
  },
  {
   "cell_type": "markdown",
   "id": "6403b760-e8c7-4aa4-bb84-bd53364dec1c",
   "metadata": {},
   "source": [
    "Objectives\n",
    "- Understand data science languages\n",
    "- Learn about data science libraries\n",
    "- Practice coding in Python"
   ]
  },
  {
   "cell_type": "markdown",
   "id": "68f2f030-735c-40e9-ac41-8f1d8b1cb114",
   "metadata": {},
   "source": [
    "Author: Umar"
   ]
  },
  {
   "cell_type": "code",
   "execution_count": null,
   "id": "3dace989-16fe-4bc0-914e-f8fe6d3bf4fe",
   "metadata": {},
   "outputs": [],
   "source": []
  }
 ],
 "metadata": {
  "kernelspec": {
   "display_name": "Python 3 (ipykernel)",
   "language": "python",
   "name": "python3"
  },
  "language_info": {
   "codemirror_mode": {
    "name": "ipython",
    "version": 3
   },
   "file_extension": ".py",
   "mimetype": "text/x-python",
   "name": "python",
   "nbconvert_exporter": "python",
   "pygments_lexer": "ipython3",
   "version": "3.11.7"
  }
 },
 "nbformat": 4,
 "nbformat_minor": 5
}
